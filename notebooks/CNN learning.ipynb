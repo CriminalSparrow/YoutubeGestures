{
 "cells": [
  {
   "cell_type": "code",
   "execution_count": 23,
   "id": "116739c2",
   "metadata": {},
   "outputs": [],
   "source": [
    "import os\n",
    "import random\n",
    "import numpy as np\n",
    "\n",
    "import torch\n",
    "import torch.nn as nn\n",
    "import torch.optim as optim\n",
    "from torch.utils.data import DataLoader, Subset\n",
    "from torchvision import transforms\n",
    "from torchvision.datasets import ImageFolder\n",
    "from torchvision import models\n",
    "from sklearn.metrics import classification_report\n",
    "from tqdm import tqdm\n",
    "import matplotlib.pyplot as plt\n",
    "\n",
    "import cv2\n",
    "import mediapipe as mp\n",
    "import pyautogui"
   ]
  },
  {
   "cell_type": "code",
   "execution_count": 9,
   "id": "e3f57ea5",
   "metadata": {},
   "outputs": [
    {
     "name": "stdout",
     "output_type": "stream",
     "text": [
      "Vesrsion of torch: 2.7.0+cu128\n"
     ]
    }
   ],
   "source": [
    "# ====== Настройки ======\n",
    "print(f'Vesrsion of torch: {torch.__version__}')\n",
    "data_dir = '../data/split'\n",
    "batch_size = 128\n",
    "epochs = 10\n",
    "lr = 1e-3\n",
    "device = torch.device(\"cuda\" if torch.cuda.is_available() else \"cpu\")"
   ]
  },
  {
   "cell_type": "code",
   "execution_count": 10,
   "id": "c5b30f81",
   "metadata": {},
   "outputs": [],
   "source": [
    "# ====== Аугментации и трансформации ======\n",
    "train_transform = transforms.Compose([\n",
    "    transforms.Resize((224, 224)),\n",
    "    transforms.RandomHorizontalFlip(),\n",
    "    transforms.RandomRotation(10),\n",
    "    transforms.ColorJitter(brightness=0.2, contrast=0.2, saturation=0.2),\n",
    "    transforms.ToTensor(),\n",
    "    transforms.Normalize(mean=[0.485, 0.456, 0.406], std=[0.229, 0.224, 0.225])\n",
    "])\n",
    "\n",
    "val_test_transform = transforms.Compose([\n",
    "    transforms.Resize((224, 224)),\n",
    "    transforms.ToTensor(),\n",
    "    transforms.Normalize(mean=[0.485, 0.456, 0.406], std=[0.229, 0.224, 0.225])\n",
    "])"
   ]
  },
  {
   "cell_type": "code",
   "execution_count": 11,
   "id": "55fbb854",
   "metadata": {},
   "outputs": [],
   "source": [
    "# ====== Загрузка данных ======\n",
    "train_dataset = ImageFolder(os.path.join('../data', 'sample_train'), transform=train_transform)\n",
    "val_dataset   = ImageFolder(os.path.join(data_dir, 'val'), transform=val_test_transform)\n",
    "test_dataset  = ImageFolder(os.path.join(data_dir, 'test'), transform=val_test_transform)\n",
    "\n",
    "train_loader = DataLoader(train_dataset, batch_size=batch_size, shuffle=True, num_workers=8, pin_memory=True)\n",
    "val_loader   = DataLoader(val_dataset, batch_size=batch_size, num_workers=8)\n",
    "test_loader  = DataLoader(test_dataset, batch_size=batch_size,num_workers=8)\n"
   ]
  },
  {
   "cell_type": "code",
   "execution_count": 12,
   "id": "ba4ac37c",
   "metadata": {},
   "outputs": [],
   "source": [
    "# --- Подготовка случайного поднабора из 500 примеров ---\n",
    "num_val_samples = 500\n",
    "all_indices = list(range(len(val_dataset)))\n",
    "# если валидационный набор меньше 500, возьмём весь\n",
    "selected_indices = random.sample(all_indices, min(num_val_samples, len(all_indices)))\n",
    "# создаём Subset и новый DataLoader\n",
    "val_subset = Subset(val_dataset, selected_indices)\n",
    "val_subset_loader = DataLoader(\n",
    "    val_subset,\n",
    "    batch_size=batch_size,\n",
    "    shuffle=False,\n",
    "    num_workers=val_loader.num_workers,\n",
    "    pin_memory=True\n",
    ")"
   ]
  },
  {
   "cell_type": "markdown",
   "id": "3e2552c0",
   "metadata": {},
   "source": [
    "## Обучаю свою простую CNN"
   ]
  },
  {
   "cell_type": "code",
   "execution_count": 26,
   "id": "7163d5b6",
   "metadata": {},
   "outputs": [],
   "source": [
    "# ====== Своя CNN ======\n",
    "class SimpleCNN(nn.Module):\n",
    "    def __init__(self, num_classes):\n",
    "        super(SimpleCNN, self).__init__()\n",
    "        self.conv = nn.Sequential(\n",
    "            nn.Conv2d(3, 32, 3, padding=1),  # (B, 3, 224, 224) -> (B, 32, 224, 224)\n",
    "            nn.ReLU(),\n",
    "            nn.MaxPool2d(2),                # -> (B, 32, 112, 112)\n",
    "\n",
    "            nn.Conv2d(32, 64, 3, padding=1),\n",
    "            nn.ReLU(),\n",
    "            nn.MaxPool2d(2),                # -> (B, 64, 56, 56)\n",
    "\n",
    "            nn.Conv2d(64, 128, 3, padding=1),\n",
    "            nn.ReLU(),\n",
    "            nn.MaxPool2d(2),                # -> (B, 128, 28, 28)\n",
    "        )\n",
    "        self.fc = nn.Sequential(\n",
    "            nn.Flatten(),\n",
    "            nn.Linear(128 * 28 * 28, 512),\n",
    "            nn.ReLU(),\n",
    "            nn.Dropout(0.5),\n",
    "            nn.Linear(512, num_classes)\n",
    "        )\n",
    "\n",
    "    def forward(self, x):\n",
    "        x = self.conv(x)\n",
    "        return self.fc(x)\n",
    "\n",
    "model = SimpleCNN(num_classes=len(train_dataset.classes)).to(device)"
   ]
  },
  {
   "cell_type": "code",
   "execution_count": 27,
   "id": "4c5c65d0",
   "metadata": {},
   "outputs": [
    {
     "name": "stderr",
     "output_type": "stream",
     "text": [
      "Epoch 1/10: 100%|██████████| 1298/1298 [01:24<00:00, 15.45it/s]\n"
     ]
    },
    {
     "name": "stdout",
     "output_type": "stream",
     "text": [
      "Epoch 1, Loss: 2.1406\n"
     ]
    },
    {
     "name": "stderr",
     "output_type": "stream",
     "text": [
      "Epoch 2/10: 100%|██████████| 1298/1298 [01:22<00:00, 15.74it/s]\n"
     ]
    },
    {
     "name": "stdout",
     "output_type": "stream",
     "text": [
      "Epoch 2, Loss: 2.0117\n"
     ]
    },
    {
     "name": "stderr",
     "output_type": "stream",
     "text": [
      "Epoch 3/10: 100%|██████████| 1298/1298 [01:22<00:00, 15.71it/s]\n"
     ]
    },
    {
     "name": "stdout",
     "output_type": "stream",
     "text": [
      "Epoch 3, Loss: 1.8450\n"
     ]
    },
    {
     "name": "stderr",
     "output_type": "stream",
     "text": [
      "Epoch 4/10: 100%|██████████| 1298/1298 [01:24<00:00, 15.41it/s]\n"
     ]
    },
    {
     "name": "stdout",
     "output_type": "stream",
     "text": [
      "Epoch 4, Loss: 1.6887\n"
     ]
    },
    {
     "name": "stderr",
     "output_type": "stream",
     "text": [
      "Epoch 5/10: 100%|██████████| 1298/1298 [01:22<00:00, 15.64it/s]\n"
     ]
    },
    {
     "name": "stdout",
     "output_type": "stream",
     "text": [
      "Epoch 5, Loss: 1.5480\n"
     ]
    },
    {
     "name": "stderr",
     "output_type": "stream",
     "text": [
      "Epoch 6/10: 100%|██████████| 1298/1298 [01:22<00:00, 15.74it/s]\n"
     ]
    },
    {
     "name": "stdout",
     "output_type": "stream",
     "text": [
      "Epoch 6, Loss: 1.4285\n"
     ]
    },
    {
     "name": "stderr",
     "output_type": "stream",
     "text": [
      "Epoch 7/10: 100%|██████████| 1298/1298 [01:22<00:00, 15.68it/s]\n"
     ]
    },
    {
     "name": "stdout",
     "output_type": "stream",
     "text": [
      "Epoch 7, Loss: 1.3389\n"
     ]
    },
    {
     "name": "stderr",
     "output_type": "stream",
     "text": [
      "Epoch 8/10: 100%|██████████| 1298/1298 [01:22<00:00, 15.73it/s]\n"
     ]
    },
    {
     "name": "stdout",
     "output_type": "stream",
     "text": [
      "Epoch 8, Loss: 1.2594\n"
     ]
    },
    {
     "name": "stderr",
     "output_type": "stream",
     "text": [
      "Epoch 9/10: 100%|██████████| 1298/1298 [01:24<00:00, 15.33it/s]\n"
     ]
    },
    {
     "name": "stdout",
     "output_type": "stream",
     "text": [
      "Epoch 9, Loss: 1.1973\n"
     ]
    },
    {
     "name": "stderr",
     "output_type": "stream",
     "text": [
      "Epoch 10/10: 100%|██████████| 1298/1298 [01:24<00:00, 15.40it/s]"
     ]
    },
    {
     "name": "stdout",
     "output_type": "stream",
     "text": [
      "Epoch 10, Loss: 1.1238\n"
     ]
    },
    {
     "name": "stderr",
     "output_type": "stream",
     "text": [
      "\n"
     ]
    }
   ],
   "source": [
    "# ====== Обучение ======\n",
    "criterion = nn.CrossEntropyLoss()\n",
    "optimizer = optim.Adam(model.parameters(), lr=lr)\n",
    "\n",
    "for epoch in range(epochs):\n",
    "    model.train()\n",
    "    epoch_loss = 0.0\n",
    "    for images, labels in tqdm(train_loader, desc=f\"Epoch {epoch+1}/{epochs}\"):\n",
    "        images, labels = images.to(device), labels.to(device)\n",
    "\n",
    "        optimizer.zero_grad()\n",
    "        outputs = model(images)\n",
    "        loss = criterion(outputs, labels)\n",
    "        loss.backward()\n",
    "        optimizer.step()\n",
    "        epoch_loss += loss.item()\n",
    "\n",
    "    print(f\"Epoch {epoch+1}, Loss: {epoch_loss/len(train_loader):.4f}\")"
   ]
  },
  {
   "cell_type": "code",
   "execution_count": 28,
   "id": "a1f266eb",
   "metadata": {},
   "outputs": [
    {
     "name": "stdout",
     "output_type": "stream",
     "text": [
      "\n",
      "Classification Report:\n",
      "              precision    recall  f1-score   support\n",
      "\n",
      "     dislike       0.74      0.76      0.75      4745\n",
      "        fist       0.55      0.61      0.58      4732\n",
      "        like       0.57      0.62      0.60      4688\n",
      "        mute       0.77      0.76      0.77      4853\n",
      "  no_gesture       0.33      0.48      0.39       326\n",
      "          ok       0.62      0.44      0.51      4674\n",
      "         one       0.53      0.65      0.58      4782\n",
      "        palm       0.67      0.64      0.66      4757\n",
      "        stop       0.57      0.48      0.52      4691\n",
      "\n",
      "    accuracy                           0.62     38248\n",
      "   macro avg       0.60      0.61      0.60     38248\n",
      "weighted avg       0.63      0.62      0.62     38248\n",
      "\n"
     ]
    }
   ],
   "source": [
    "# ====== Оценка ======\n",
    "model.eval()\n",
    "y_true, y_pred = [], []\n",
    "\n",
    "with torch.no_grad():\n",
    "    for images, labels in test_loader:\n",
    "        images = images.to(device)\n",
    "        outputs = model(images)\n",
    "        preds = outputs.argmax(dim=1).cpu()\n",
    "        y_pred.extend(preds.tolist())\n",
    "        y_true.extend(labels.tolist())\n",
    "\n",
    "print(\"\\nClassification Report:\")\n",
    "print(classification_report(y_true, y_pred, target_names=test_dataset.classes))\n",
    "\n",
    "# ====== Сохранение ======\n",
    "torch.save(model.state_dict(), \"custom_gesture_model.pth\")"
   ]
  },
  {
   "cell_type": "markdown",
   "id": "55626034",
   "metadata": {},
   "source": [
    "## Обучаю resnet"
   ]
  },
  {
   "cell_type": "code",
   "execution_count": 13,
   "id": "f8298c13",
   "metadata": {},
   "outputs": [
    {
     "name": "stderr",
     "output_type": "stream",
     "text": [
      "c:\\Users\\socol\\Vs Code projects\\YoutubeGestures\\venv\\Lib\\site-packages\\torchvision\\models\\_utils.py:208: UserWarning: The parameter 'pretrained' is deprecated since 0.13 and may be removed in the future, please use 'weights' instead.\n",
      "  warnings.warn(\n",
      "c:\\Users\\socol\\Vs Code projects\\YoutubeGestures\\venv\\Lib\\site-packages\\torchvision\\models\\_utils.py:223: UserWarning: Arguments other than a weight enum or `None` for 'weights' are deprecated since 0.13 and may be removed in the future. The current behavior is equivalent to passing `weights=ResNet18_Weights.IMAGENET1K_V1`. You can also use `weights=ResNet18_Weights.DEFAULT` to get the most up-to-date weights.\n",
      "  warnings.warn(msg)\n"
     ]
    }
   ],
   "source": [
    "# ====== Загрузка предобученной ResNet18 и изменение последнего слоя ======\n",
    "resnet_model = models.resnet18(pretrained=True)\n",
    "\n",
    "# Если хочешь дообучить все слои – не замораживай ничего.\n",
    "# Для заморозки всех слоёв кроме последнего:\n",
    "# for param in resnet_model.parameters():\n",
    "#     param.requires_grad = False\n",
    "\n",
    "num_classes = len(train_dataset.classes)\n",
    "resnet_model.fc = nn.Linear(resnet_model.fc.in_features, num_classes)\n",
    "\n",
    "resnet_model = resnet_model.to(device)"
   ]
  },
  {
   "cell_type": "code",
   "execution_count": 14,
   "id": "60b25d93",
   "metadata": {},
   "outputs": [],
   "source": [
    "# ====== Настройка обучения ======\n",
    "criterion = nn.CrossEntropyLoss()\n",
    "optimizer = optim.Adam(resnet_model.parameters(), lr=lr)"
   ]
  },
  {
   "cell_type": "code",
   "execution_count": 15,
   "id": "ec4f3a4c",
   "metadata": {},
   "outputs": [
    {
     "name": "stderr",
     "output_type": "stream",
     "text": [
      "Epoch 1/10: 100%|██████████| 325/325 [01:32<00:00,  3.53it/s]\n"
     ]
    },
    {
     "name": "stdout",
     "output_type": "stream",
     "text": [
      "Epoch 0/10 — Train Loss: 0.4863, Val Loss: 0.3741\n"
     ]
    },
    {
     "name": "stderr",
     "output_type": "stream",
     "text": [
      "Epoch 2/10: 100%|██████████| 325/325 [01:31<00:00,  3.56it/s]\n"
     ]
    },
    {
     "name": "stdout",
     "output_type": "stream",
     "text": [
      "Epoch 1/10 — Train Loss: 0.2564, Val Loss: 0.1928\n"
     ]
    },
    {
     "name": "stderr",
     "output_type": "stream",
     "text": [
      "Epoch 3/10: 100%|██████████| 325/325 [01:32<00:00,  3.52it/s]\n"
     ]
    },
    {
     "name": "stdout",
     "output_type": "stream",
     "text": [
      "Epoch 2/10 — Train Loss: 0.2106, Val Loss: 0.1406\n"
     ]
    },
    {
     "name": "stderr",
     "output_type": "stream",
     "text": [
      "Epoch 4/10: 100%|██████████| 325/325 [01:33<00:00,  3.48it/s]\n"
     ]
    },
    {
     "name": "stdout",
     "output_type": "stream",
     "text": [
      "Epoch 3/10 — Train Loss: 0.1762, Val Loss: 0.1805\n"
     ]
    },
    {
     "name": "stderr",
     "output_type": "stream",
     "text": [
      "Epoch 5/10: 100%|██████████| 325/325 [01:31<00:00,  3.56it/s]\n"
     ]
    },
    {
     "name": "stdout",
     "output_type": "stream",
     "text": [
      "Epoch 4/10 — Train Loss: 0.1613, Val Loss: 0.1542\n"
     ]
    },
    {
     "name": "stderr",
     "output_type": "stream",
     "text": [
      "Epoch 6/10: 100%|██████████| 325/325 [01:32<00:00,  3.52it/s]\n"
     ]
    },
    {
     "name": "stdout",
     "output_type": "stream",
     "text": [
      "Epoch 5/10 — Train Loss: 0.1449, Val Loss: 0.1336\n"
     ]
    },
    {
     "name": "stderr",
     "output_type": "stream",
     "text": [
      "Epoch 7/10: 100%|██████████| 325/325 [01:32<00:00,  3.50it/s]\n"
     ]
    },
    {
     "name": "stdout",
     "output_type": "stream",
     "text": [
      "Epoch 6/10 — Train Loss: 0.1331, Val Loss: 0.0865\n"
     ]
    },
    {
     "name": "stderr",
     "output_type": "stream",
     "text": [
      "Epoch 8/10: 100%|██████████| 325/325 [01:33<00:00,  3.49it/s]\n"
     ]
    },
    {
     "name": "stdout",
     "output_type": "stream",
     "text": [
      "Epoch 7/10 — Train Loss: 0.1217, Val Loss: 0.1274\n"
     ]
    },
    {
     "name": "stderr",
     "output_type": "stream",
     "text": [
      "Epoch 9/10: 100%|██████████| 325/325 [01:33<00:00,  3.49it/s]\n"
     ]
    },
    {
     "name": "stdout",
     "output_type": "stream",
     "text": [
      "Epoch 8/10 — Train Loss: 0.1144, Val Loss: 0.0923\n"
     ]
    },
    {
     "name": "stderr",
     "output_type": "stream",
     "text": [
      "Epoch 10/10: 100%|██████████| 325/325 [01:33<00:00,  3.49it/s]\n"
     ]
    },
    {
     "name": "stdout",
     "output_type": "stream",
     "text": [
      "Epoch 9/10 — Train Loss: 0.1098, Val Loss: 0.1081\n"
     ]
    }
   ],
   "source": [
    "# ====== Цикл обучения ======\n",
    "train_losses = []\n",
    "val_losses = []\n",
    "\n",
    "for epoch in range(epochs):\n",
    "    resnet_model.train()\n",
    "    running_loss = 0.0\n",
    "\n",
    "    for images, labels in tqdm(train_loader, desc=f\"Epoch {epoch+1}/{epochs}\"):\n",
    "        images, labels = images.to(device), labels.to(device)\n",
    "\n",
    "        optimizer.zero_grad()\n",
    "        outputs = resnet_model(images)\n",
    "        loss = criterion(outputs, labels)\n",
    "        loss.backward()\n",
    "        optimizer.step()\n",
    "\n",
    "        running_loss += loss.item()\n",
    "\n",
    "    avg_loss = running_loss / len(train_loader)\n",
    "    train_losses.append(avg_loss)\n",
    "\n",
    "    # --- Валидационная фаза ---\n",
    "    resnet_model.eval()\n",
    "    running_val_loss = 0.0\n",
    "    with torch.no_grad():\n",
    "        for images, labels in val_subset_loader:\n",
    "            images, labels = images.to(device), labels.to(device)\n",
    "            outputs = resnet_model(images)\n",
    "            loss = criterion(outputs, labels)\n",
    "            running_val_loss += loss.item()\n",
    "    avg_val_loss = running_val_loss / len(val_subset_loader)\n",
    "    val_losses.append(avg_val_loss)\n",
    "\n",
    "\n",
    "    print(f\"Train Loss: {avg_loss:.4f}, Val Loss: {avg_val_loss:.4f}\")"
   ]
  },
  {
   "cell_type": "code",
   "execution_count": 16,
   "id": "d50f3af9",
   "metadata": {},
   "outputs": [
    {
     "data": {
      "image/png": "[encoded data removed]",
      "text/plain": [
       "<Figure size 640x480 with 1 Axes>"
      ]
     },
     "metadata": {},
     "output_type": "display_data"
    }
   ],
   "source": [
    "# --- Построение графика ---\n",
    "plt.figure()\n",
    "plt.plot(range(1, epochs+1), train_losses, label='Train Loss')\n",
    "plt.plot(range(1, epochs+1), val_losses,   label='Validation Loss')\n",
    "plt.xlabel('Эпоха')\n",
    "plt.ylabel('Loss')\n",
    "plt.title('Динамика обучения: Train vs Validation Loss')\n",
    "plt.legend()\n",
    "plt.show()"
   ]
  },
  {
   "cell_type": "code",
   "execution_count": null,
   "id": "f1d6b405",
   "metadata": {},
   "outputs": [
    {
     "name": "stdout",
     "output_type": "stream",
     "text": [
      "\n",
      "Classification Report:\n",
      "              precision    recall  f1-score   support\n",
      "\n",
      "     dislike       0.96      0.98      0.97      4745\n",
      "        fist       0.98      0.89      0.94      4732\n",
      "        like       0.94      0.95      0.94      4688\n",
      "        mute       0.99      0.96      0.97      4853\n",
      "  no_gesture       0.80      0.94      0.87       326\n",
      "          ok       0.97      0.93      0.95      4674\n",
      "         one       0.92      0.94      0.93      4782\n",
      "        palm       0.91      0.98      0.94      4757\n",
      "        stop       0.93      0.95      0.94      4691\n",
      "\n",
      "    accuracy                           0.95     38248\n",
      "   macro avg       0.93      0.95      0.94     38248\n",
      "weighted avg       0.95      0.95      0.95     38248\n",
      "\n"
     ]
    }
   ],
   "source": [
    "# ====== Оценка ======\n",
    "resnet_model.eval()\n",
    "y_true, y_pred = [], []\n",
    "\n",
    "with torch.no_grad():\n",
    "    for images, labels in test_loader:\n",
    "        images = images.to(device)\n",
    "        outputs = resnet_model(images)\n",
    "        preds = outputs.argmax(dim=1).cpu()\n",
    "        y_pred.extend(preds.tolist())\n",
    "        y_true.extend(labels.tolist())\n",
    "\n",
    "print(\"\\nClassification Report:\")\n",
    "print(classification_report(y_true, y_pred, target_names=test_dataset.classes))"
   ]
  },
  {
   "cell_type": "code",
   "execution_count": 19,
   "id": "61be7f47",
   "metadata": {},
   "outputs": [],
   "source": [
    "#====== Сохранение ======\n",
    "torch.save(resnet_model.state_dict(), \"trained_res18.pth\")"
   ]
  },
  {
   "cell_type": "code",
   "execution_count": 47,
   "id": "81c750b9",
   "metadata": {},
   "outputs": [],
   "source": [
    "# ——— Настройка модели ———\n",
    "device = torch.device('cuda' if torch.cuda.is_available() else 'cpu')\n",
    "model = models.resnet18(weights=None)\n",
    "model.fc = torch.nn.Linear(model.fc.in_features, num_classes)\n",
    "model.load_state_dict(torch.load('trained_res18.pth'))\n",
    "model.to(device).eval()\n",
    "\n",
    "transform = transforms.Compose([\n",
    "    transforms.ToPILImage(),\n",
    "    transforms.Resize((224,224)),\n",
    "    transforms.ToTensor(),\n",
    "    transforms.Normalize(mean=[0.485, 0.456, 0.406], std=[0.229, 0.224, 0.225]),\n",
    "])"
   ]
  },
  {
   "cell_type": "code",
   "execution_count": 70,
   "id": "1e765b65",
   "metadata": {},
   "outputs": [],
   "source": [
    "# ——— Настройка MediaPipe ———\n",
    "mp_hands = mp.solutions.hands\n",
    "hands = mp_hands.Hands(\n",
    "    static_image_mode=False,\n",
    "    max_num_hands=1,\n",
    "    min_detection_confidence=0.95,\n",
    "    min_tracking_confidence=0.95\n",
    ")\n",
    "mp_draw = mp.solutions.drawing_utils"
   ]
  },
  {
   "cell_type": "code",
   "execution_count": 73,
   "id": "779c83b3",
   "metadata": {},
   "outputs": [],
   "source": [
    "# thresholds\n",
    "TH_X, TH_Y = 40, 40\n",
    "\n",
    "cap = cv2.VideoCapture('test_video.mp4')\n",
    "if not cap.isOpened():\n",
    "    print(\"Ошибка: не удалось открыть видеофайл.\")\n",
    "tracking = False\n",
    "start_pos = None\n",
    "active_gesture = None"
   ]
  },
  {
   "cell_type": "code",
   "execution_count": 74,
   "id": "a3ec02b8",
   "metadata": {},
   "outputs": [],
   "source": [
    "while True:\n",
    "    ret, frame = cap.read()\n",
    "    if not ret: break\n",
    "\n",
    "    # 1) классификация\n",
    "    img = cv2.cvtColor(frame, cv2.COLOR_BGR2RGB)\n",
    "    pil = transform(img).unsqueeze(0).to(device)\n",
    "    with torch.no_grad():\n",
    "        out = model(pil)\n",
    "        cls = out.argmax(1).item()\n",
    "    gesture = train_dataset.classes[cls]  # e.g. 'palm', 'one', etc.\n",
    "\n",
    "    # 2) детекция ключевых точек руки\n",
    "    res = hands.process(img)\n",
    "    if res.multi_hand_landmarks:\n",
    "        lm = res.multi_hand_landmarks[0].landmark\n",
    "        coords = np.array([[int(pt.x*frame.shape[1]), int(pt.y*frame.shape[0])]\n",
    "                           for pt in lm])\n",
    "        center = coords.mean(axis=0).astype(int)  # (x, y)\n",
    "        cv2.circle(frame, tuple(center), 5, (0,255,0), -1)\n",
    "    else:\n",
    "        center = None\n",
    "\n",
    "    # 3) логика трекинга\n",
    "    if gesture in ('palm','one') and center is not None:\n",
    "        if not tracking or gesture != active_gesture:\n",
    "            # старт нового трекинга\n",
    "            tracking = True\n",
    "            active_gesture = gesture\n",
    "            start_pos = center.copy()\n",
    "        else:\n",
    "            # уже в режиме трекинга — считаем смещение\n",
    "            dx, dy = center - start_pos\n",
    "            if gesture == 'palm':\n",
    "                if abs(dx) > TH_X:\n",
    "                    if dx > 0: pyautogui.press('right')\n",
    "                    else:      pyautogui.press('left')\n",
    "                    start_pos = center  # обновляем базу\n",
    "            if gesture == 'one':\n",
    "                if abs(dy) > TH_Y:\n",
    "                    if dy < 0: pyautogui.press('up')\n",
    "                    else:      pyautogui.press('down')\n",
    "                    start_pos = center\n",
    "    else:\n",
    "        tracking = False\n",
    "\n",
    "    # отображение\n",
    "    cv2.putText(frame, gesture, (10,30),\n",
    "                cv2.FONT_HERSHEY_SIMPLEX, 1, (255,0,0), 2)\n",
    "    cv2.imshow(\"Gestures\", frame)\n",
    "    if cv2.waitKey(1) == ord('q'):\n",
    "        break\n",
    "\n",
    "cap.release()\n",
    "cv2.destroyAllWindows()"
   ]
  },
  {
   "cell_type": "code",
   "execution_count": null,
   "id": "c4e0b4af",
   "metadata": {},
   "outputs": [],
   "source": []
  }
 ],
 "metadata": {
  "kernelspec": {
   "display_name": "venv",
   "language": "python",
   "name": "python3"
  },
  "language_info": {
   "codemirror_mode": {
    "name": "ipython",
    "version": 3
   },
   "file_extension": ".py",
   "mimetype": "text/x-python",
   "name": "python",
   "nbconvert_exporter": "python",
   "pygments_lexer": "ipython3",
   "version": "3.12.0"
  }
 },
 "nbformat": 4,
 "nbformat_minor": 5
}
