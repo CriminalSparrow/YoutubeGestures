{
 "cells": [
  {
   "cell_type": "code",
   "execution_count": 1,
   "id": "116739c2",
   "metadata": {},
   "outputs": [],
   "source": [
    "import os\n",
    "import random\n",
    "import numpy as np\n",
    "\n",
    "import torch\n",
    "import torch.nn as nn\n",
    "import torch.optim as optim\n",
    "from torch.utils.data import DataLoader, Subset\n",
    "from torchvision import transforms\n",
    "from torchvision.datasets import ImageFolder\n",
    "from torchvision import models\n",
    "from sklearn.metrics import classification_report\n",
    "from tqdm import tqdm\n",
    "import matplotlib.pyplot as plt\n",
    "\n",
    "import cv2\n",
    "import mediapipe as mp\n",
    "import pyautogui"
   ]
  },
  {
   "cell_type": "code",
   "execution_count": 9,
   "id": "e3f57ea5",
   "metadata": {},
   "outputs": [
    {
     "name": "stdout",
     "output_type": "stream",
     "text": [
      "Vesrsion of torch: 2.7.0+cu128\n",
      "cuda\n"
     ]
    }
   ],
   "source": [
    "# ====== Настройки ======\n",
    "print(f'Vesrsion of torch: {torch.__version__}')\n",
    "data_dir = '../data/split'\n",
    "batch_size = 128\n",
    "epochs = 20\n",
    "lr = 1e-3\n",
    "device = torch.device(\"cuda\" if torch.cuda.is_available() else \"cpu\")\n",
    "print(device)"
   ]
  },
  {
   "cell_type": "code",
   "execution_count": 3,
   "id": "c5b30f81",
   "metadata": {},
   "outputs": [],
   "source": [
    "# ====== Аугментации и трансформации ======\n",
    "train_transform = transforms.Compose([\n",
    "    transforms.Resize((224, 224)),\n",
    "    transforms.RandomHorizontalFlip(),\n",
    "    transforms.RandomRotation(10),\n",
    "    transforms.ColorJitter(brightness=0.2, contrast=0.2, saturation=0.2),\n",
    "    transforms.ToTensor(),\n",
    "    transforms.Normalize(mean=[0.485, 0.456, 0.406], std=[0.229, 0.224, 0.225])\n",
    "])\n",
    "\n",
    "val_test_transform = transforms.Compose([\n",
    "    transforms.Resize((224, 224)),\n",
    "    transforms.ToTensor(),\n",
    "    transforms.Normalize(mean=[0.485, 0.456, 0.406], std=[0.229, 0.224, 0.225])\n",
    "])"
   ]
  },
  {
   "cell_type": "code",
   "execution_count": 4,
   "id": "55fbb854",
   "metadata": {},
   "outputs": [
    {
     "name": "stdout",
     "output_type": "stream",
     "text": [
      "34\n",
      "['call', 'dislike', 'fist', 'four', 'grabbing', 'grip', 'gun', 'hand_heart', 'hand_heart2', 'holy', 'like', 'little_finger', 'middle_finger', 'mute', 'no_gesture', 'ok', 'one', 'palm', 'peace', 'peace_inverted', 'point', 'rock', 'stop', 'stop_inverted', 'take_picture', 'three', 'three2', 'three3', 'thumb_index', 'thumb_index2', 'timeout', 'two_up', 'two_up_inverted', 'xsign']\n"
     ]
    }
   ],
   "source": [
    "# ====== Загрузка данных ======\n",
    "#train_dataset = ImageFolder(os.path.join('../data', 'sample_train'), transform=train_transform)\n",
    "train_dataset = ImageFolder(os.path.join(data_dir, 'train'), transform=train_transform)\n",
    "val_dataset   = ImageFolder(os.path.join(data_dir, 'val'), transform=val_test_transform)\n",
    "test_dataset  = ImageFolder(os.path.join(data_dir, 'test'), transform=val_test_transform)\n",
    "\n",
    "train_loader = DataLoader(train_dataset, batch_size=batch_size, shuffle=True, num_workers=8, pin_memory=True)\n",
    "val_loader   = DataLoader(val_dataset, batch_size=batch_size, num_workers=8)\n",
    "test_loader  = DataLoader(test_dataset, batch_size=batch_size,num_workers=8)\n",
    "\n",
    "print(len(train_dataset.classes))\n",
    "print(train_dataset.classes)"
   ]
  },
  {
   "cell_type": "code",
   "execution_count": 5,
   "id": "ba4ac37c",
   "metadata": {},
   "outputs": [],
   "source": [
    "# --- Подготовка случайного поднабора из 500 примеров для валидации во время обучения ---\n",
    "num_val_samples = 500\n",
    "all_indices = list(range(len(val_dataset)))\n",
    "# если валидационный набор меньше 500, возьмём весь\n",
    "selected_indices = random.sample(all_indices, min(num_val_samples, len(all_indices)))\n",
    "# создаём Subset и новый DataLoader\n",
    "val_subset = Subset(val_dataset, selected_indices)\n",
    "val_subset_loader = DataLoader(\n",
    "    val_subset,\n",
    "    batch_size=batch_size,\n",
    "    shuffle=False,\n",
    "    num_workers=val_loader.num_workers,\n",
    "    pin_memory=True\n",
    ")"
   ]
  },
  {
   "cell_type": "markdown",
   "id": "3e2552c0",
   "metadata": {},
   "source": [
    "## Обучаю свою простую CNN"
   ]
  },
  {
   "cell_type": "code",
   "execution_count": 26,
   "id": "7163d5b6",
   "metadata": {},
   "outputs": [],
   "source": [
    "# ====== Своя CNN ======\n",
    "class SimpleCNN(nn.Module):\n",
    "    def __init__(self, num_classes):\n",
    "        super(SimpleCNN, self).__init__()\n",
    "        self.conv = nn.Sequential(\n",
    "            nn.Conv2d(3, 32, 3, padding=1),  # (B, 3, 224, 224) -> (B, 32, 224, 224)\n",
    "            nn.ReLU(),\n",
    "            nn.MaxPool2d(2),                # -> (B, 32, 112, 112)\n",
    "\n",
    "            nn.Conv2d(32, 64, 3, padding=1),\n",
    "            nn.ReLU(),\n",
    "            nn.MaxPool2d(2),                # -> (B, 64, 56, 56)\n",
    "\n",
    "            nn.Conv2d(64, 128, 3, padding=1),\n",
    "            nn.ReLU(),\n",
    "            nn.MaxPool2d(2),                # -> (B, 128, 28, 28)\n",
    "        )\n",
    "        self.fc = nn.Sequential(\n",
    "            nn.Flatten(),\n",
    "            nn.Linear(128 * 28 * 28, 512),\n",
    "            nn.ReLU(),\n",
    "            nn.Dropout(0.5),\n",
    "            nn.Linear(512, num_classes)\n",
    "        )\n",
    "\n",
    "    def forward(self, x):\n",
    "        x = self.conv(x)\n",
    "        return self.fc(x)\n",
    "\n",
    "model = SimpleCNN(num_classes=len(train_dataset.classes)).to(device)"
   ]
  },
  {
   "cell_type": "code",
   "execution_count": 27,
   "id": "4c5c65d0",
   "metadata": {},
   "outputs": [
    {
     "name": "stderr",
     "output_type": "stream",
     "text": [
      "Epoch 1/10: 100%|██████████| 1298/1298 [01:24<00:00, 15.45it/s]\n"
     ]
    },
    {
     "name": "stdout",
     "output_type": "stream",
     "text": [
      "Epoch 1, Loss: 2.1406\n"
     ]
    },
    {
     "name": "stderr",
     "output_type": "stream",
     "text": [
      "Epoch 2/10: 100%|██████████| 1298/1298 [01:22<00:00, 15.74it/s]\n"
     ]
    },
    {
     "name": "stdout",
     "output_type": "stream",
     "text": [
      "Epoch 2, Loss: 2.0117\n"
     ]
    },
    {
     "name": "stderr",
     "output_type": "stream",
     "text": [
      "Epoch 3/10: 100%|██████████| 1298/1298 [01:22<00:00, 15.71it/s]\n"
     ]
    },
    {
     "name": "stdout",
     "output_type": "stream",
     "text": [
      "Epoch 3, Loss: 1.8450\n"
     ]
    },
    {
     "name": "stderr",
     "output_type": "stream",
     "text": [
      "Epoch 4/10: 100%|██████████| 1298/1298 [01:24<00:00, 15.41it/s]\n"
     ]
    },
    {
     "name": "stdout",
     "output_type": "stream",
     "text": [
      "Epoch 4, Loss: 1.6887\n"
     ]
    },
    {
     "name": "stderr",
     "output_type": "stream",
     "text": [
      "Epoch 5/10: 100%|██████████| 1298/1298 [01:22<00:00, 15.64it/s]\n"
     ]
    },
    {
     "name": "stdout",
     "output_type": "stream",
     "text": [
      "Epoch 5, Loss: 1.5480\n"
     ]
    },
    {
     "name": "stderr",
     "output_type": "stream",
     "text": [
      "Epoch 6/10: 100%|██████████| 1298/1298 [01:22<00:00, 15.74it/s]\n"
     ]
    },
    {
     "name": "stdout",
     "output_type": "stream",
     "text": [
      "Epoch 6, Loss: 1.4285\n"
     ]
    },
    {
     "name": "stderr",
     "output_type": "stream",
     "text": [
      "Epoch 7/10: 100%|██████████| 1298/1298 [01:22<00:00, 15.68it/s]\n"
     ]
    },
    {
     "name": "stdout",
     "output_type": "stream",
     "text": [
      "Epoch 7, Loss: 1.3389\n"
     ]
    },
    {
     "name": "stderr",
     "output_type": "stream",
     "text": [
      "Epoch 8/10: 100%|██████████| 1298/1298 [01:22<00:00, 15.73it/s]\n"
     ]
    },
    {
     "name": "stdout",
     "output_type": "stream",
     "text": [
      "Epoch 8, Loss: 1.2594\n"
     ]
    },
    {
     "name": "stderr",
     "output_type": "stream",
     "text": [
      "Epoch 9/10: 100%|██████████| 1298/1298 [01:24<00:00, 15.33it/s]\n"
     ]
    },
    {
     "name": "stdout",
     "output_type": "stream",
     "text": [
      "Epoch 9, Loss: 1.1973\n"
     ]
    },
    {
     "name": "stderr",
     "output_type": "stream",
     "text": [
      "Epoch 10/10: 100%|██████████| 1298/1298 [01:24<00:00, 15.40it/s]"
     ]
    },
    {
     "name": "stdout",
     "output_type": "stream",
     "text": [
      "Epoch 10, Loss: 1.1238\n"
     ]
    },
    {
     "name": "stderr",
     "output_type": "stream",
     "text": [
      "\n"
     ]
    }
   ],
   "source": [
    "# ====== Обучение ======\n",
    "criterion = nn.CrossEntropyLoss()\n",
    "optimizer = optim.Adam(model.parameters(), lr=lr)\n",
    "\n",
    "for epoch in range(epochs):\n",
    "    model.train()\n",
    "    epoch_loss = 0.0\n",
    "    for images, labels in tqdm(train_loader, desc=f\"Epoch {epoch+1}/{epochs}\"):\n",
    "        images, labels = images.to(device), labels.to(device)\n",
    "\n",
    "        optimizer.zero_grad()\n",
    "        outputs = model(images)\n",
    "        loss = criterion(outputs, labels)\n",
    "        loss.backward()\n",
    "        optimizer.step()\n",
    "        epoch_loss += loss.item()\n",
    "\n",
    "    print(f\"Epoch {epoch+1}, Loss: {epoch_loss/len(train_loader):.4f}\")"
   ]
  },
  {
   "cell_type": "code",
   "execution_count": 28,
   "id": "a1f266eb",
   "metadata": {},
   "outputs": [
    {
     "name": "stdout",
     "output_type": "stream",
     "text": [
      "\n",
      "Classification Report:\n",
      "              precision    recall  f1-score   support\n",
      "\n",
      "     dislike       0.74      0.76      0.75      4745\n",
      "        fist       0.55      0.61      0.58      4732\n",
      "        like       0.57      0.62      0.60      4688\n",
      "        mute       0.77      0.76      0.77      4853\n",
      "  no_gesture       0.33      0.48      0.39       326\n",
      "          ok       0.62      0.44      0.51      4674\n",
      "         one       0.53      0.65      0.58      4782\n",
      "        palm       0.67      0.64      0.66      4757\n",
      "        stop       0.57      0.48      0.52      4691\n",
      "\n",
      "    accuracy                           0.62     38248\n",
      "   macro avg       0.60      0.61      0.60     38248\n",
      "weighted avg       0.63      0.62      0.62     38248\n",
      "\n"
     ]
    }
   ],
   "source": [
    "# ====== Оценка ======\n",
    "model.eval()\n",
    "y_true, y_pred = [], []\n",
    "\n",
    "with torch.no_grad():\n",
    "    for images, labels in test_loader:\n",
    "        images = images.to(device)\n",
    "        outputs = model(images)\n",
    "        preds = outputs.argmax(dim=1).cpu()\n",
    "        y_pred.extend(preds.tolist())\n",
    "        y_true.extend(labels.tolist())\n",
    "\n",
    "print(\"\\nClassification Report:\")\n",
    "print(classification_report(y_true, y_pred, target_names=test_dataset.classes))\n",
    "\n",
    "# ====== Сохранение ======\n",
    "torch.save(model.state_dict(), \"custom_gesture_model.pth\")"
   ]
  },
  {
   "cell_type": "markdown",
   "id": "55626034",
   "metadata": {},
   "source": [
    "## Обучаю resnet"
   ]
  },
  {
   "cell_type": "code",
   "execution_count": 10,
   "id": "f8298c13",
   "metadata": {},
   "outputs": [],
   "source": [
    "# ====== Загрузка предобученной ResNet18 и изменение последнего слоя ======\n",
    "resnet_model = models.resnet18(pretrained=True)\n",
    "\n",
    "# Для заморозки всех слоёв кроме последнего:\n",
    "# for param in resnet_model.parameters():\n",
    "#     param.requires_grad = False\n",
    "\n",
    "num_classes = len(train_dataset.classes)\n",
    "resnet_model.fc = nn.Sequential(\n",
    "    nn.Dropout(p=0.5),  # Dropout перед классификацией\n",
    "    nn.Linear(resnet_model.fc.in_features, num_classes) \n",
    ")\n",
    "\n",
    "\n",
    "resnet_model = resnet_model.to(device)"
   ]
  },
  {
   "cell_type": "code",
   "execution_count": 11,
   "id": "3bf2727d",
   "metadata": {},
   "outputs": [
    {
     "data": {
      "text/plain": [
       "34"
      ]
     },
     "execution_count": 11,
     "metadata": {},
     "output_type": "execute_result"
    }
   ],
   "source": [
    "num_classes"
   ]
  },
  {
   "cell_type": "code",
   "execution_count": 12,
   "id": "60b25d93",
   "metadata": {},
   "outputs": [],
   "source": [
    "# ====== Настройка обучения ======\n",
    "criterion = nn.CrossEntropyLoss()\n",
    "optimizer = optim.Adam(resnet_model.parameters(), lr=lr)\n",
    "train_losses = []\n",
    "val_losses = []\n"
   ]
  },
  {
   "cell_type": "code",
   "execution_count": 13,
   "id": "ec4f3a4c",
   "metadata": {},
   "outputs": [
    {
     "name": "stderr",
     "output_type": "stream",
     "text": [
      "Epoch 1/20: 100%|██████████| 5941/5941 [22:51<00:00,  4.33it/s]\n"
     ]
    },
    {
     "name": "stdout",
     "output_type": "stream",
     "text": [
      "Train Loss: 0.3826, Val Loss: 0.2189\n"
     ]
    },
    {
     "name": "stderr",
     "output_type": "stream",
     "text": [
      "Epoch 2/20: 100%|██████████| 5941/5941 [22:27<00:00,  4.41it/s]\n"
     ]
    },
    {
     "name": "stdout",
     "output_type": "stream",
     "text": [
      "Train Loss: 0.2030, Val Loss: 0.1631\n"
     ]
    },
    {
     "name": "stderr",
     "output_type": "stream",
     "text": [
      "Epoch 3/20: 100%|██████████| 5941/5941 [22:50<00:00,  4.33it/s]\n"
     ]
    },
    {
     "name": "stdout",
     "output_type": "stream",
     "text": [
      "Train Loss: 0.1597, Val Loss: 0.1417\n"
     ]
    },
    {
     "name": "stderr",
     "output_type": "stream",
     "text": [
      "Epoch 4/20: 100%|██████████| 5941/5941 [22:42<00:00,  4.36it/s]\n"
     ]
    },
    {
     "name": "stdout",
     "output_type": "stream",
     "text": [
      "Train Loss: 0.1349, Val Loss: 0.1690\n"
     ]
    },
    {
     "name": "stderr",
     "output_type": "stream",
     "text": [
      "Epoch 5/20: 100%|██████████| 5941/5941 [23:02<00:00,  4.30it/s]\n"
     ]
    },
    {
     "name": "stdout",
     "output_type": "stream",
     "text": [
      "Train Loss: 0.1187, Val Loss: 0.1104\n"
     ]
    },
    {
     "name": "stderr",
     "output_type": "stream",
     "text": [
      "Epoch 6/20: 100%|██████████| 5941/5941 [23:03<00:00,  4.29it/s]\n"
     ]
    },
    {
     "name": "stdout",
     "output_type": "stream",
     "text": [
      "Train Loss: 0.1070, Val Loss: 0.0986\n"
     ]
    },
    {
     "name": "stderr",
     "output_type": "stream",
     "text": [
      "Epoch 7/20: 100%|██████████| 5941/5941 [22:59<00:00,  4.31it/s]\n"
     ]
    },
    {
     "name": "stdout",
     "output_type": "stream",
     "text": [
      "Train Loss: 0.0981, Val Loss: 0.0703\n"
     ]
    },
    {
     "name": "stderr",
     "output_type": "stream",
     "text": [
      "Epoch 8/20: 100%|██████████| 5941/5941 [23:01<00:00,  4.30it/s]\n"
     ]
    },
    {
     "name": "stdout",
     "output_type": "stream",
     "text": [
      "Train Loss: 0.0896, Val Loss: 0.0873\n"
     ]
    },
    {
     "name": "stderr",
     "output_type": "stream",
     "text": [
      "Epoch 9/20: 100%|██████████| 5941/5941 [23:08<00:00,  4.28it/s]\n"
     ]
    },
    {
     "name": "stdout",
     "output_type": "stream",
     "text": [
      "Train Loss: 0.0834, Val Loss: 0.1247\n"
     ]
    },
    {
     "name": "stderr",
     "output_type": "stream",
     "text": [
      "Epoch 10/20: 100%|██████████| 5941/5941 [22:58<00:00,  4.31it/s]\n"
     ]
    },
    {
     "name": "stdout",
     "output_type": "stream",
     "text": [
      "Train Loss: 0.0789, Val Loss: 0.0796\n"
     ]
    },
    {
     "name": "stderr",
     "output_type": "stream",
     "text": [
      "Epoch 11/20: 100%|██████████| 5941/5941 [22:59<00:00,  4.31it/s]\n"
     ]
    },
    {
     "name": "stdout",
     "output_type": "stream",
     "text": [
      "Train Loss: 0.0738, Val Loss: 0.0777\n"
     ]
    },
    {
     "name": "stderr",
     "output_type": "stream",
     "text": [
      "Epoch 12/20: 100%|██████████| 5941/5941 [23:03<00:00,  4.30it/s]\n"
     ]
    },
    {
     "name": "stdout",
     "output_type": "stream",
     "text": [
      "Train Loss: 0.0704, Val Loss: 0.0650\n"
     ]
    },
    {
     "name": "stderr",
     "output_type": "stream",
     "text": [
      "Epoch 13/20: 100%|██████████| 5941/5941 [23:00<00:00,  4.30it/s]\n"
     ]
    },
    {
     "name": "stdout",
     "output_type": "stream",
     "text": [
      "Train Loss: 0.0668, Val Loss: 0.0650\n"
     ]
    },
    {
     "name": "stderr",
     "output_type": "stream",
     "text": [
      "Epoch 14/20: 100%|██████████| 5941/5941 [23:08<00:00,  4.28it/s]\n"
     ]
    },
    {
     "name": "stdout",
     "output_type": "stream",
     "text": [
      "Train Loss: 0.0631, Val Loss: 0.0887\n"
     ]
    },
    {
     "name": "stderr",
     "output_type": "stream",
     "text": [
      "Epoch 15/20: 100%|██████████| 5941/5941 [23:03<00:00,  4.29it/s]\n"
     ]
    },
    {
     "name": "stdout",
     "output_type": "stream",
     "text": [
      "Train Loss: 0.0610, Val Loss: 0.0755\n"
     ]
    },
    {
     "name": "stderr",
     "output_type": "stream",
     "text": [
      "Epoch 16/20: 100%|██████████| 5941/5941 [23:03<00:00,  4.30it/s]\n"
     ]
    },
    {
     "name": "stdout",
     "output_type": "stream",
     "text": [
      "Train Loss: 0.0572, Val Loss: 0.0514\n"
     ]
    },
    {
     "name": "stderr",
     "output_type": "stream",
     "text": [
      "Epoch 17/20: 100%|██████████| 5941/5941 [23:02<00:00,  4.30it/s]\n"
     ]
    },
    {
     "name": "stdout",
     "output_type": "stream",
     "text": [
      "Train Loss: 0.0561, Val Loss: 0.0677\n"
     ]
    },
    {
     "name": "stderr",
     "output_type": "stream",
     "text": [
      "Epoch 18/20: 100%|██████████| 5941/5941 [23:02<00:00,  4.30it/s]\n"
     ]
    },
    {
     "name": "stdout",
     "output_type": "stream",
     "text": [
      "Train Loss: 0.0532, Val Loss: 0.0409\n"
     ]
    },
    {
     "name": "stderr",
     "output_type": "stream",
     "text": [
      "Epoch 19/20: 100%|██████████| 5941/5941 [22:59<00:00,  4.31it/s]\n"
     ]
    },
    {
     "name": "stdout",
     "output_type": "stream",
     "text": [
      "Train Loss: 0.0512, Val Loss: 0.0749\n"
     ]
    },
    {
     "name": "stderr",
     "output_type": "stream",
     "text": [
      "Epoch 20/20: 100%|██████████| 5941/5941 [23:05<00:00,  4.29it/s]\n"
     ]
    },
    {
     "name": "stdout",
     "output_type": "stream",
     "text": [
      "Train Loss: 0.0494, Val Loss: 0.0496\n"
     ]
    }
   ],
   "source": [
    "# ====== Цикл обучения ======\n",
    "for epoch in range(epochs):\n",
    "    resnet_model.train()\n",
    "    running_loss = 0.0\n",
    "\n",
    "    for images, labels in tqdm(train_loader, desc=f\"Epoch {epoch+1}/{epochs}\"):\n",
    "        images, labels = images.to(device), labels.to(device)\n",
    "\n",
    "        optimizer.zero_grad()\n",
    "        outputs = resnet_model(images)\n",
    "        loss = criterion(outputs, labels)\n",
    "        loss.backward()\n",
    "        optimizer.step()\n",
    "\n",
    "        running_loss += loss.item()\n",
    "\n",
    "    avg_loss = running_loss / len(train_loader)\n",
    "    train_losses.append(avg_loss)\n",
    "\n",
    "    # --- Валидационная фаза ---\n",
    "    resnet_model.eval()\n",
    "    running_val_loss = 0.0\n",
    "    with torch.no_grad():\n",
    "        for images, labels in val_subset_loader:\n",
    "            images, labels = images.to(device), labels.to(device)\n",
    "            outputs = resnet_model(images)\n",
    "            loss = criterion(outputs, labels)\n",
    "            running_val_loss += loss.item()\n",
    "    avg_val_loss = running_val_loss / len(val_subset_loader)\n",
    "    val_losses.append(avg_val_loss)\n",
    "\n",
    "\n",
    "    print(f\"Train Loss: {avg_loss:.4f}, Val Loss: {avg_val_loss:.4f}\")"
   ]
  },
  {
   "cell_type": "code",
   "execution_count": 16,
   "id": "d50f3af9",
   "metadata": {},
   "outputs": [
    {
     "data": {
      "image/png": "[encoded data removed]",
      "text/plain": [
       "<Figure size 640x480 with 1 Axes>"
      ]
     },
     "metadata": {},
     "output_type": "display_data"
    }
   ],
   "source": [
    "# --- Построение графика ---\n",
    "plt.figure()\n",
    "plt.plot(range(1, epochs+1), train_losses, label='Train Loss')\n",
    "plt.plot(range(1, epochs+1), val_losses,   label='Validation Loss')\n",
    "plt.xlabel('Эпоха')\n",
    "plt.ylabel('Loss')\n",
    "plt.title('Динамика обучения: Train vs Validation Loss')\n",
    "plt.legend()\n",
    "plt.show()"
   ]
  },
  {
   "cell_type": "code",
   "execution_count": null,
   "id": "f1d6b405",
   "metadata": {},
   "outputs": [
    {
     "name": "stdout",
     "output_type": "stream",
     "text": [
      "\n",
      "Classification Report:\n",
      "                 precision    recall  f1-score   support\n",
      "\n",
      "           call       0.93      0.97      0.95      4209\n",
      "        dislike       0.97      0.97      0.97      4743\n",
      "           fist       0.95      0.95      0.95      4731\n",
      "           four       0.93      0.93      0.93      4715\n",
      "       grabbing       0.99      0.95      0.97      5452\n",
      "           grip       0.99      0.97      0.98      5460\n",
      "            gun       0.98      0.98      0.98      5631\n",
      "     hand_heart       0.99      0.99      0.99      4436\n",
      "    hand_heart2       0.99      0.99      0.99      4797\n",
      "           holy       1.00      0.99      1.00      5910\n",
      "           like       0.94      0.89      0.92      4686\n",
      "  little_finger       0.98      0.98      0.98      5445\n",
      "  middle_finger       0.92      0.98      0.95      5705\n",
      "           mute       0.95      0.99      0.97      4852\n",
      "     no_gesture       0.77      0.88      0.82       324\n",
      "             ok       0.96      0.92      0.94      4672\n",
      "            one       0.93      0.90      0.92      4780\n",
      "           palm       0.89      0.96      0.92      4756\n",
      "          peace       0.95      0.92      0.94      4770\n",
      " peace_inverted       0.96      0.97      0.96      4477\n",
      "          point       0.95      0.96      0.96      5651\n",
      "           rock       0.94      0.94      0.94      4827\n",
      "           stop       0.96      0.93      0.95      4690\n",
      "  stop_inverted       0.91      0.97      0.94      4545\n",
      "   take_picture       0.99      0.99      0.99      4315\n",
      "          three       0.92      0.93      0.92      4608\n",
      "         three2       0.98      0.96      0.97      4443\n",
      "         three3       0.99      0.95      0.97      6053\n",
      "    thumb_index       0.98      0.98      0.98      7049\n",
      "   thumb_index2       1.00      1.00      1.00      2837\n",
      "        timeout       1.00      1.00      1.00      4451\n",
      "         two_up       0.96      0.94      0.95      4603\n",
      "two_up_inverted       0.93      0.93      0.93      4498\n",
      "          xsign       0.98      1.00      0.99      5787\n",
      "\n",
      "       accuracy                           0.96    162908\n",
      "      macro avg       0.95      0.96      0.96    162908\n",
      "   weighted avg       0.96      0.96      0.96    162908\n",
      "\n"
     ]
    }
   ],
   "source": [
    "# ====== Оценка ======\n",
    "resnet_model.eval()\n",
    "y_true, y_pred = [], []\n",
    "\n",
    "with torch.no_grad():\n",
    "    for images, labels in test_loader:\n",
    "        images = images.to(device)Ы\n",
    "        outputs = resnet_model(images)\n",
    "        preds = outputs.argmax(dim=1).cpu()\n",
    "        y_pred.extend(preds.tolist())\n",
    "        y_true.extend(labels.tolist())\n",
    "\n",
    "print(\"\\nClassification Report:\")\n",
    "print(classification_report(y_true, y_pred, target_names=test_dataset.classes))"
   ]
  },
  {
   "cell_type": "code",
   "execution_count": 17,
   "id": "61be7f47",
   "metadata": {},
   "outputs": [],
   "source": [
    "#====== Сохранение ======\n",
    "torch.save(resnet_model.state_dict(), \"trained_res18_full_train_all_gestures.pth\")"
   ]
  },
  {
   "cell_type": "markdown",
   "id": "651fcc56",
   "metadata": {},
   "source": [
    "## Проба прода"
   ]
  },
  {
   "cell_type": "code",
   "execution_count": 18,
   "id": "81c750b9",
   "metadata": {},
   "outputs": [],
   "source": [
    "# ——— Настройка модели ———\n",
    "device = torch.device('cuda' if torch.cuda.is_available() else 'cpu')\n",
    "\n",
    "model = models.resnet18(weights=None)\n",
    "\n",
    "model.fc = nn.Sequential(\n",
    "    nn.Dropout(p=0.5),\n",
    "    nn.Linear(model.fc.in_features, num_classes)\n",
    ")\n",
    "\n",
    "model.load_state_dict(torch.load('trained_res18_full_train_all_gestures.pth'))\n",
    "model.to(device).eval()\n",
    "\n",
    "transform = transforms.Compose([\n",
    "    transforms.ToPILImage(),\n",
    "    transforms.Resize((224,224)),\n",
    "    transforms.ToTensor(),\n",
    "    transforms.Normalize(mean=[0.485, 0.456, 0.406], std=[0.229, 0.224, 0.225]),\n",
    "])"
   ]
  },
  {
   "cell_type": "code",
   "execution_count": 19,
   "id": "1e765b65",
   "metadata": {},
   "outputs": [],
   "source": [
    "# ——— Настройка MediaPipe ———\n",
    "mp_hands = mp.solutions.hands\n",
    "hands = mp_hands.Hands(\n",
    "    static_image_mode=False,\n",
    "    max_num_hands=1,\n",
    "    min_detection_confidence=0.85,\n",
    "    min_tracking_confidence=0.85\n",
    ")\n",
    "mp_draw = mp.solutions.drawing_utils"
   ]
  },
  {
   "cell_type": "code",
   "execution_count": 28,
   "id": "779c83b3",
   "metadata": {},
   "outputs": [],
   "source": [
    "# thresholds\n",
    "TH_X, TH_Y = 40, 40\n",
    "\n",
    "cap = cv2.VideoCapture('test_video5.mp4')\n",
    "if not cap.isOpened():\n",
    "    print(\"Ошибка: не удалось открыть видеофайл.\")\n",
    "tracking = False\n",
    "start_pos = None\n",
    "active_gesture = None"
   ]
  },
  {
   "cell_type": "code",
   "execution_count": null,
   "id": "1891e73e",
   "metadata": {},
   "outputs": [
    {
     "name": "stdout",
     "output_type": "stream",
     "text": [
      "Режим активирован\n",
      "Режим деактивирован\n",
      "Режим активирован\n"
     ]
    }
   ],
   "source": [
    "import collections\n",
    "import pyautogui\n",
    "import cv2\n",
    "import numpy as np\n",
    "import torch\n",
    "import time\n",
    "from collections import deque, Counter\n",
    "\n",
    "# ——— Настройки ———\n",
    "N_FRAMES = 20               # Сколько последних кадров учитывать для сглаживания\n",
    "CONF_THRESHOLD = 0.8        # Порог уверенности модели\n",
    "TH_X, TH_Y = 20, 20         # Пороги движения по X и Y\n",
    "gesture_buffer = deque(maxlen=N_FRAMES)\n",
    "\n",
    "tracking = False\n",
    "activated = False\n",
    "active_gesture = None\n",
    "start_pos = None\n",
    "last_activation_time = 0\n",
    "activation_cooldown = 4.0   # Секунда между активациями режима\n",
    "\n",
    "last_action_time = 0\n",
    "action_cooldown = 3.0       # Секунда между нажатиями клавиш (like/dislike)\n",
    "\n",
    "# ——— Цикл обработки кадров ———\n",
    "while True:\n",
    "    ret, frame = cap.read()\n",
    "    if not ret:\n",
    "        break\n",
    "\n",
    "    current_time = time.time()\n",
    "\n",
    "    # 1) Классификация кадра\n",
    "    img = cv2.cvtColor(frame, cv2.COLOR_BGR2RGB)\n",
    "    pil = transform(img).unsqueeze(0).to(device)\n",
    "\n",
    "    with torch.no_grad():\n",
    "        out = model(pil)\n",
    "        probs = torch.softmax(out, dim=1)\n",
    "        confidence, cls = probs.max(1)\n",
    "        if confidence.item() < CONF_THRESHOLD:\n",
    "            gesture = 'no_gesture'\n",
    "        else:\n",
    "            gesture = train_dataset.classes[cls.item()]\n",
    "\n",
    "    gesture_buffer.append(gesture)\n",
    "\n",
    "    # Majority vote\n",
    "    if len(gesture_buffer) == N_FRAMES:\n",
    "        most_common_gesture, count = Counter(gesture_buffer).most_common(1)[0]\n",
    "    else:\n",
    "        most_common_gesture = 'no_gesture'\n",
    "\n",
    "    # 2) Детекция ключевых точек руки\n",
    "    res = hands.process(img)\n",
    "    if res.multi_hand_landmarks:\n",
    "        lm = res.multi_hand_landmarks[0].landmark\n",
    "        coords = np.array([[int(pt.x * frame.shape[1]), int(pt.y * frame.shape[0])] for pt in lm])\n",
    "\n",
    "        # Рисуем ключевые точки\n",
    "        for coord in coords:\n",
    "            cv2.circle(frame, tuple(coord), 5, (0, 255, 0), -1)\n",
    "\n",
    "        # Центр руки\n",
    "        center = coords.mean(axis=0).astype(int)\n",
    "        cv2.circle(frame, tuple(center), 5, (0, 255, 0), -1)\n",
    "\n",
    "        # Геометрическая валидация like/dislike\n",
    "        thumb_tip = coords[4] # конец большого пальца\n",
    "        index_tip = coords[8] # конец указательного пальца\n",
    "        # Распознали жест как \"like\", но конец большого пальца ниже конца указательного\n",
    "        if most_common_gesture == 'like' and not (thumb_tip[1] < index_tip[1]):\n",
    "            most_common_gesture = 'no_gesture'\n",
    "        # Распознали жест как \"dislike\", но конец большого пальца выше конца указательного\n",
    "        if most_common_gesture == 'dislike' and not (thumb_tip[1] > index_tip[1]):\n",
    "            most_common_gesture = 'no_gesture'\n",
    "    else:\n",
    "        center = None\n",
    "\n",
    "    # 3) Логика активации/деактивации режима\n",
    "    if most_common_gesture == 'timeout' and (current_time - last_activation_time) > activation_cooldown:\n",
    "        activated = not activated\n",
    "        print(f'Режим {\"активирован\" if activated else \"деактивирован\"}')\n",
    "        last_activation_time = current_time\n",
    "        gesture_buffer.clear()\n",
    "        continue\n",
    "\n",
    "    # 4) Логика трекинга жестов для управления\n",
    "    if activated and center is not None and most_common_gesture in ('palm', 'grabbing', 'thumb_index'):\n",
    "        if not tracking or most_common_gesture != active_gesture:\n",
    "            # Только при начале нового трекинга\n",
    "            tracking = True\n",
    "            active_gesture = most_common_gesture\n",
    "            start_pos = center.copy()\n",
    "            last_center = center.copy()\n",
    "        else:\n",
    "            dx, dy = center - start_pos\n",
    "            move_dx, move_dy = center - last_center\n",
    "\n",
    "            if most_common_gesture in ('palm', 'grabbing'):\n",
    "                # Перемотка: обновляем стартовую точку после каждого шага\n",
    "                if abs(dx) > TH_X:\n",
    "                    if dx > 0:\n",
    "                        pyautogui.press('right')  # перемотка вперёд\n",
    "                    else:\n",
    "                        pyautogui.press('left')   # перемотка назад\n",
    "                    start_pos = center.copy()\n",
    "\n",
    "            elif most_common_gesture == 'thumb_index':\n",
    "                # Громкость: работаем от первой точки, но если жест остановился - перезапускаем\n",
    "                if abs(dy) > TH_Y:\n",
    "                    if dy < 0:\n",
    "                        pyautogui.press('volumeup')\n",
    "                    else:\n",
    "                        pyautogui.press('volumedown')\n",
    "                    \n",
    "                    # После нажатия НЕ обновляем start_pos!\n",
    "                \n",
    "                # Проверка: если рука почти не движется, перезапускаем отсчет\n",
    "                if abs(move_dy) < 5 and abs(move_dx) < 5:\n",
    "                    start_pos = center.copy()\n",
    "\n",
    "            last_center = center.copy()\n",
    "\n",
    "    else:\n",
    "        tracking = False\n",
    "\n",
    "    # 5) Логика управления лайками/дизлайками\n",
    "    if activated and most_common_gesture in ('like', 'dislike') and (current_time - last_action_time) > action_cooldown:\n",
    "        if most_common_gesture == 'like':\n",
    "            pyautogui.press('l')\n",
    "        elif most_common_gesture == 'dislike':\n",
    "            pyautogui.press('d')\n",
    "        last_action_time = current_time\n",
    "        gesture_buffer.clear()\n",
    "\n",
    "    # 6) Логика управления действиями типа пауза / следующее видео\n",
    "    if activated and most_common_gesture in ('stop', 'gun') and (current_time - last_action_time) > action_cooldown:\n",
    "        if most_common_gesture == 'stop':\n",
    "            pyautogui.press('space')  # Пауза/возобновление видео (обычно Space)\n",
    "        elif most_common_gesture == 'gun':\n",
    "            pyautogui.press('n')  # Следующее видео, например 'n' или 'right', зависит от сайта\n",
    "        last_action_time = current_time\n",
    "        gesture_buffer.clear()\n",
    "\n",
    "    # 7) Отображение\n",
    "    status_text = f\"Gesture: {most_common_gesture} | {'Active' if activated else 'Inactive'}\"\n",
    "    cv2.putText(frame, status_text, (10, 30),\n",
    "                cv2.FONT_HERSHEY_SIMPLEX, 0.7, (255, 0, 0), 2)\n",
    "    cv2.imshow(\"Gestures\", frame)\n",
    "\n",
    "    if cv2.waitKey(1) == ord('q'):\n",
    "        break\n",
    "\n",
    "# ——— Завершение работы ———\n",
    "cap.release()\n",
    "cv2.destroyAllWindows()\n"
   ]
  },
  {
   "cell_type": "code",
   "execution_count": null,
   "id": "438ba70a",
   "metadata": {},
   "outputs": [
    {
     "name": "stdout",
     "output_type": "stream",
     "text": [
      "Режим активирован\n",
      "Режим деактивирован\n",
      "Режим активирован\n",
      "Режим деактивирован\n",
      "Режим активирован\n",
      "Режим деактивирован\n"
     ]
    }
   ],
   "source": [
    "import collections\n",
    "import pyautogui\n",
    "import cv2\n",
    "import numpy as np\n",
    "import torch\n",
    "from collections import deque, Counter\n",
    "\n",
    "# Настройки\n",
    "N_FRAMES = 15  # сколько последних кадров учитывать для сглаживания\n",
    "CONF_THRESHOLD = 0.8  # порог уверенности модели\n",
    "TH_X, TH_Y = 20, 20  # пороги движения\n",
    "gesture_buffer = deque(maxlen=N_FRAMES)\n",
    "\n",
    "tracking = False\n",
    "activated = False\n",
    "active_gesture = None\n",
    "start_pos = None\n",
    "\n",
    "while True:\n",
    "    ret, frame = cap.read()\n",
    "    if not ret: break\n",
    "\n",
    "    # 1) Классификация кадра\n",
    "    img = cv2.cvtColor(frame, cv2.COLOR_BGR2RGB)\n",
    "    pil = transform(img).unsqueeze(0).to(device)\n",
    "\n",
    "    with torch.no_grad():\n",
    "        out = model(pil)\n",
    "        probs = torch.softmax(out, dim=1)\n",
    "        confidence, cls = probs.max(1)\n",
    "        if confidence.item() < CONF_THRESHOLD:\n",
    "            gesture = 'no_gesture'\n",
    "        else:\n",
    "            gesture = train_dataset.classes[cls.item()]\n",
    "\n",
    "    gesture_buffer.append(gesture)\n",
    "\n",
    "    # Majority vote по последним N_FRAMES\n",
    "    if len(gesture_buffer) == N_FRAMES:\n",
    "        most_common_gesture, count = Counter(gesture_buffer).most_common(1)[0]\n",
    "    else:\n",
    "        most_common_gesture = 'no_gesture'\n",
    "\n",
    "    # 2) Детекция ключевых точек руки\n",
    "    res = hands.process(img)\n",
    "    if res.multi_hand_landmarks:\n",
    "        lm = res.multi_hand_landmarks[0].landmark\n",
    "        coords = np.array([[int(pt.x*frame.shape[1]), int(pt.y*frame.shape[0])] for pt in lm])\n",
    "\n",
    "        # Рисуем все ключевые точки\n",
    "        for coord in coords:\n",
    "            cv2.circle(frame, tuple(coord), 5, (0, 255, 0), -1)\n",
    "\n",
    "        # Вычисляем и рисуем центр руки\n",
    "        center = coords.mean(axis=0).astype(int)\n",
    "        cv2.circle(frame, tuple(center), 5, (0,255,0), -1)\n",
    "\n",
    "        # Геометрическая валидация Like/Dislike\n",
    "        thumb_tip = coords[4] # конец большого пальца\n",
    "        index_tip = coords[8] # конец указательного пальца\n",
    "        \n",
    "        # Распознали жест как \"like\", но конец большого пальца ниже конца указательного\n",
    "        if most_common_gesture == 'like' and not (thumb_tip[1] < index_tip[1]):\n",
    "            most_common_gesture = 'no_gesture'\n",
    "        # Распознали жест как \"dislike\", но конец большого пальца выше конца указательного\n",
    "        if most_common_gesture == 'dislike' and not (thumb_tip[1] > index_tip[1]):\n",
    "            most_common_gesture = 'no_gesture'\n",
    "\n",
    "    else:\n",
    "        center = None\n",
    "\n",
    "    # 3) Логика активации/деактивации\n",
    "    if most_common_gesture == 'timeout':\n",
    "        activated = not activated\n",
    "        print(f'Режим {\"активирован\" if activated else \"деактивирован\"}')\n",
    "        cv2.waitKey(1_000)  # задержка 10 секунд после изменения состояния\n",
    "        gesture_buffer.clear()\n",
    "        continue\n",
    "\n",
    "    # 4) Логика трекинга\n",
    "    if activated and center is not None and most_common_gesture in ('palm', 'thumb_index'):\n",
    "        if not tracking or most_common_gesture != active_gesture:\n",
    "            tracking = True\n",
    "            active_gesture = most_common_gesture\n",
    "            start_pos = center.copy()\n",
    "        else:\n",
    "            dx, dy = center - start_pos\n",
    "\n",
    "            if most_common_gesture == 'palm':\n",
    "                if abs(dx) > TH_X:\n",
    "                    if dx > 0:\n",
    "                        pyautogui.press('right')  # перемотка вперёд\n",
    "                    else:\n",
    "                        pyautogui.press('left')   # перемотка назад\n",
    "                    start_pos = center\n",
    "            elif most_common_gesture == 'thumb_index':\n",
    "                if abs(dy) > TH_Y:\n",
    "                    if dy < 0:\n",
    "                        pyautogui.press('volumeup')\n",
    "                    else:\n",
    "                        pyautogui.press('volumedown')\n",
    "                    start_pos = center\n",
    "    else:\n",
    "        tracking = False\n",
    "\n",
    "    # 5) Управление лайками/дизлайками\n",
    "    if activated and most_common_gesture in ('like', 'dislike'):\n",
    "        if most_common_gesture == 'like':\n",
    "            pyautogui.press('l')  # например, нажимаем \"лайк\"\n",
    "        elif most_common_gesture == 'dislike':\n",
    "            pyautogui.press('d')  # например, нажимаем \"дизлайк\"\n",
    "        cv2.waitKey(1_000)  # небольшая задержка, чтобы избежать повторных нажатий\n",
    "        gesture_buffer.clear()\n",
    "\n",
    "    # 6) Отображение\n",
    "    status_text = f\"Gesture: {most_common_gesture} | {'Active' if activated else 'Inactive'}\"\n",
    "    cv2.putText(frame, status_text, (10,30),\n",
    "                cv2.FONT_HERSHEY_SIMPLEX, 0.7, (255,0,0), 2)\n",
    "    cv2.imshow(\"Gestures\", frame)\n",
    "\n",
    "    if cv2.waitKey(1) == ord('q'):\n",
    "        break\n",
    "\n",
    "cap.release()\n",
    "cv2.destroyAllWindows()"
   ]
  },
  {
   "cell_type": "code",
   "execution_count": null,
   "id": "2a082276",
   "metadata": {},
   "outputs": [],
   "source": [
    "from collections import deque, Counter\n",
    "import time\n",
    "\n",
    "# Настройки\n",
    "PREDICTION_WINDOW = 10  # сколько последних кадров учитывать\n",
    "active_mode = False\n",
    "last_toggle_time = 0\n",
    "TOGGLE_DELAY = 2  # задержка между переключениями\n",
    "gesture_buffer = deque(maxlen=PREDICTION_WINDOW)  # буфер последних N предсказаний\n",
    "\n",
    "while True:\n",
    "    ret, frame = cap.read()\n",
    "    if not ret:\n",
    "        break\n",
    "\n",
    "    img = cv2.cvtColor(frame, cv2.COLOR_BGR2RGB)\n",
    "    pil = transform(img).unsqueeze(0).to(device)\n",
    "    with torch.no_grad():\n",
    "        out = model(pil)\n",
    "        cls = out.argmax(1).item()\n",
    "    gesture = train_dataset.classes[cls]\n",
    "\n",
    "    gesture_buffer.append(gesture)  # сохраняем предсказание в буфер\n",
    "\n",
    "    # Считаем наиболее часто встречающийся жест в окне\n",
    "    if len(gesture_buffer) == PREDICTION_WINDOW:\n",
    "        most_common_gesture, count = Counter(gesture_buffer).most_common(1)[0]\n",
    "    else:\n",
    "        most_common_gesture = gesture  # если буфер ещё не заполнен, работаем как обычно\n",
    "\n",
    "    res = hands.process(img)\n",
    "    if res.multi_hand_landmarks:\n",
    "        lm = res.multi_hand_landmarks[0].landmark\n",
    "        coords = np.array([[int(pt.x * frame.shape[1]), int(pt.y * frame.shape[0])] for pt in lm])\n",
    "\n",
    "        for coord in coords:\n",
    "            cv2.circle(frame, tuple(coord), 5, (0, 255, 0), -1)\n",
    "\n",
    "        center = coords.mean(axis=0).astype(int)\n",
    "        cv2.circle(frame, tuple(center), 5, (0, 255, 0), -1)\n",
    "    else:\n",
    "        center = None\n",
    "\n",
    "    # Переключение режима на основе most_common_gesture\n",
    "    current_time = time.time()\n",
    "    if most_common_gesture == 'like' and (current_time - last_toggle_time) > TOGGLE_DELAY:\n",
    "        active_mode = not active_mode\n",
    "        last_toggle_time = current_time\n",
    "\n",
    "    # Логика трекинга\n",
    "    if active_mode and most_common_gesture in ('palm', 'one') and center is not None:\n",
    "        if not tracking or most_common_gesture != active_gesture:\n",
    "            tracking = True\n",
    "            active_gesture = most_common_gesture\n",
    "            start_pos = center.copy()\n",
    "        else:\n",
    "            dx, dy = center - start_pos\n",
    "            if most_common_gesture == 'palm':\n",
    "                if abs(dx) > TH_X:\n",
    "                    if dx > 0:\n",
    "                        pyautogui.press('right')\n",
    "                    else:\n",
    "                        pyautogui.press('left')\n",
    "                    start_pos = center\n",
    "            if most_common_gesture == 'one':\n",
    "                if abs(dy) > TH_Y:\n",
    "                    if dy < 0:\n",
    "                        pyautogui.press('up')\n",
    "                    else:\n",
    "                        pyautogui.press('down')\n",
    "                    start_pos = center\n",
    "    else:\n",
    "        tracking = False\n",
    "\n",
    "    # отображение\n",
    "    mode_text = \"ACTIVE\" if active_mode else \"INACTIVE\"\n",
    "    cv2.putText(frame, f\"Mode: {mode_text}\", (10, 110),\n",
    "                cv2.FONT_HERSHEY_SIMPLEX, 1, (255, 255, 0), 2)\n",
    "\n",
    "    cv2.putText(frame, most_common_gesture, (10, 30),\n",
    "                cv2.FONT_HERSHEY_SIMPLEX, 1, (255, 0, 0), 2)\n",
    "\n",
    "    cv2.imshow(\"Gestures\", frame)\n",
    "    if cv2.waitKey(1) == ord('q'):\n",
    "        break\n",
    "\n",
    "cap.release()\n",
    "cv2.destroyAllWindows()"
   ]
  },
  {
   "cell_type": "code",
   "execution_count": null,
   "id": "a3ec02b8",
   "metadata": {},
   "outputs": [],
   "source": [
    "import time\n",
    "\n",
    "active_mode = False\n",
    "last_toggle_time = 0\n",
    "TOGGLE_DELAY = 2  # секунды между переключениями\n",
    "\n",
    "while True:\n",
    "    ret, frame = cap.read()\n",
    "    if not ret:\n",
    "        break\n",
    "\n",
    "    img = cv2.cvtColor(frame, cv2.COLOR_BGR2RGB)\n",
    "    pil = transform(img).unsqueeze(0).to(device)\n",
    "    with torch.no_grad():\n",
    "        out = model(pil)\n",
    "        cls = out.argmax(1).item()\n",
    "    gesture = train_dataset.classes[cls]\n",
    "\n",
    "    res = hands.process(img)\n",
    "    if res.multi_hand_landmarks:\n",
    "        lm = res.multi_hand_landmarks[0].landmark\n",
    "        coords = np.array([[int(pt.x * frame.shape[1]), int(pt.y * frame.shape[0])] for pt in lm])\n",
    "\n",
    "        for coord in coords:\n",
    "            cv2.circle(frame, tuple(coord), 5, (0, 255, 0), -1)\n",
    "\n",
    "        center = coords.mean(axis=0).astype(int)\n",
    "        cv2.circle(frame, tuple(center), 5, (0, 255, 0), -1)\n",
    "    else:\n",
    "        gesture = 'no_gesture'\n",
    "        center = None\n",
    "\n",
    "    # Логика переключения активного режима\n",
    "    current_time = time.time()\n",
    "    if gesture == 'like' and (current_time - last_toggle_time) > TOGGLE_DELAY:\n",
    "        active_mode = not active_mode\n",
    "        last_toggle_time = current_time  # обновляем время последнего переключения\n",
    "\n",
    "    # Логика трекинга\n",
    "    if active_mode and gesture in ('palm', 'one') and center is not None:\n",
    "        if not tracking or gesture != active_gesture:\n",
    "            tracking = True\n",
    "            active_gesture = gesture\n",
    "            start_pos = center.copy()\n",
    "        else:\n",
    "            dx, dy = center - start_pos\n",
    "            if gesture == 'palm':\n",
    "                if abs(dx) > TH_X:\n",
    "                    if dx > 0:\n",
    "                        pyautogui.press('right')\n",
    "                    else:\n",
    "                        pyautogui.press('left')\n",
    "                    start_pos = center\n",
    "            if gesture == 'one':\n",
    "                if abs(dy) > TH_Y:\n",
    "                    if dy < 0:\n",
    "                        pyautogui.press('up')\n",
    "                    else:\n",
    "                        pyautogui.press('down')\n",
    "                    start_pos = center\n",
    "    else:\n",
    "        tracking = False\n",
    "\n",
    "    # отображение\n",
    "    mode_text = \"ACTIVE\" if active_mode else \"INACTIVE\"\n",
    "    cv2.putText(frame, f\"Mode: {mode_text}\", (10, 110),\n",
    "                cv2.FONT_HERSHEY_SIMPLEX, 1, (255, 255, 0), 2)\n",
    "\n",
    "    cv2.putText(frame, gesture, (10, 30),\n",
    "                cv2.FONT_HERSHEY_SIMPLEX, 1, (255, 0, 0), 2)\n",
    "\n",
    "    cv2.imshow(\"Gestures\", frame)\n",
    "    if cv2.waitKey(1) == ord('q'):\n",
    "        break\n",
    "\n",
    "cap.release()\n",
    "cv2.destroyAllWindows()"
   ]
  },
  {
   "cell_type": "markdown",
   "id": "68f8df1f",
   "metadata": {},
   "source": [
    "TODO:\n",
    "1. Жест, который будет давать программе знак, что пора применять другие жесты или наоборот прекратить их применение\n",
    "2. Закинуть ненужные жесты в No_gestures\n",
    "3. Прекратить использовать Ok, так как он путается с пальцем вверх (one)\n",
    "4. Прекратить использовать fist, так как он путается с one\n",
    "5. После всего этого переобучить модель"
   ]
  }
 ],
 "metadata": {
  "kernelspec": {
   "display_name": "venv",
   "language": "python",
   "name": "python3"
  },
  "language_info": {
   "codemirror_mode": {
    "name": "ipython",
    "version": 3
   },
   "file_extension": ".py",
   "mimetype": "text/x-python",
   "name": "python",
   "nbconvert_exporter": "python",
   "pygments_lexer": "ipython3",
   "version": "3.12.0"
  }
 },
 "nbformat": 4,
 "nbformat_minor": 5
}
